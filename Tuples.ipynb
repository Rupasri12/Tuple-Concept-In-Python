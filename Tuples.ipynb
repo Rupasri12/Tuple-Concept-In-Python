{
  "cells": [
    {
      "cell_type": "markdown",
      "metadata": {
        "id": "3xHcZXSJsqHZ"
      },
      "source": [
        "## Tuple"
      ]
    },
    {
      "cell_type": "code",
      "execution_count": null,
      "metadata": {
        "scrolled": true,
        "id": "RWhLevflsqHp",
        "outputId": "686e4971-f159-4060-bfca-e94945c3e704"
      },
      "outputs": [
        {
          "data": {
            "text/plain": [
              "()"
            ]
          },
          "execution_count": 1,
          "metadata": {},
          "output_type": "execute_result"
        }
      ],
      "source": [
        "a = () # paranthesis\n",
        "a"
      ]
    },
    {
      "cell_type": "code",
      "execution_count": null,
      "metadata": {
        "scrolled": true,
        "id": "xYUm5I1osqHw",
        "outputId": "cb9002d9-c223-4b84-d91f-5b732be91e15"
      },
      "outputs": [
        {
          "name": "stdout",
          "output_type": "stream",
          "text": [
            "(10, 30, 20, 40)\n"
          ]
        }
      ],
      "source": [
        "mytuple = (10, 30, 20, 40)\n",
        "print(mytuple)"
      ]
    },
    {
      "cell_type": "code",
      "execution_count": null,
      "metadata": {
        "scrolled": true,
        "id": "VRFfLrgosqHz",
        "outputId": "9152bc0d-8149-4aa7-8304-b938a87afff6"
      },
      "outputs": [
        {
          "name": "stdout",
          "output_type": "stream",
          "text": [
            "(2, 'Hello', [1, 2, 3], (100, 200), 2)\n"
          ]
        }
      ],
      "source": [
        "mytuple = (2, \"Hello\", [1, 2, 3], (100, 200), 2)\n",
        "print(mytuple)"
      ]
    },
    {
      "cell_type": "code",
      "execution_count": null,
      "metadata": {
        "scrolled": true,
        "id": "xgEfhKqCsqH2",
        "outputId": "a17e20e3-bb1b-4d95-e130-fc8077e9a0e3"
      },
      "outputs": [
        {
          "name": "stdout",
          "output_type": "stream",
          "text": [
            "<class 'tuple'>\n"
          ]
        }
      ],
      "source": [
        "print(type(()))"
      ]
    },
    {
      "cell_type": "code",
      "execution_count": null,
      "metadata": {
        "id": "QwF0Yu1OsqH5",
        "outputId": "0443b70f-1561-4e9b-ecaf-385200643dbb"
      },
      "outputs": [
        {
          "name": "stdout",
          "output_type": "stream",
          "text": [
            "(10, 20, 30)\n",
            "<class 'tuple'>\n"
          ]
        }
      ],
      "source": [
        "a = 10 , 20 , 30\n",
        "print(a)\n",
        "print(type(a))"
      ]
    },
    {
      "cell_type": "code",
      "execution_count": null,
      "metadata": {
        "scrolled": true,
        "id": "etAblrSOsqH7",
        "outputId": "b0dfc827-3d8c-4184-d923-bc0da404ef31"
      },
      "outputs": [
        {
          "name": "stdout",
          "output_type": "stream",
          "text": [
            "(10, 'Hello', 20)\n",
            "<class 'tuple'>\n"
          ]
        }
      ],
      "source": [
        "mytuple = 10, \"Hello\", 20\n",
        "print(mytuple)\n",
        "print(type(mytuple))"
      ]
    },
    {
      "cell_type": "code",
      "execution_count": null,
      "metadata": {
        "id": "bSihNDX2sqH-",
        "outputId": "405dc362-dcfa-4935-bf29-f2c6871da68b"
      },
      "outputs": [
        {
          "name": "stdout",
          "output_type": "stream",
          "text": [
            "(10,)\n",
            "<class 'tuple'>\n"
          ]
        }
      ],
      "source": [
        "a = (10 ,)\n",
        "print(a)\n",
        "print(type(a))"
      ]
    },
    {
      "cell_type": "code",
      "execution_count": null,
      "metadata": {
        "scrolled": true,
        "id": "6QTJCsx6sqIA",
        "outputId": "97b82fb4-c8a2-4d69-f742-edccad05c8a0"
      },
      "outputs": [
        {
          "name": "stdout",
          "output_type": "stream",
          "text": [
            "(10,)\n",
            "<class 'tuple'>\n",
            "10\n",
            "<class 'int'>\n"
          ]
        }
      ],
      "source": [
        "#Creating a Tuple With One Item\n",
        "var1 = (10,)\n",
        "print(var1)\n",
        "print(type(var1))\n",
        "\n",
        "var2 = (10)\n",
        "print(var2)\n",
        "print(type(var2))"
      ]
    },
    {
      "cell_type": "code",
      "execution_count": null,
      "metadata": {
        "scrolled": true,
        "id": "8f8T2gFJsqIB",
        "outputId": "177ce7e6-10b7-4b6b-dbf2-9fddb1d51c99"
      },
      "outputs": [
        {
          "name": "stdout",
          "output_type": "stream",
          "text": [
            "('Hello Python',)\n",
            "<class 'tuple'>\n",
            "Hello Python\n",
            "<class 'str'>\n"
          ]
        }
      ],
      "source": [
        "var1 = (\"Hello Python\",)\n",
        "print(var1)\n",
        "print(type(var1))\n",
        "\n",
        "var2 = (\"Hello Python\")\n",
        "print(var2)\n",
        "print(type(var2))"
      ]
    },
    {
      "cell_type": "code",
      "execution_count": null,
      "metadata": {
        "scrolled": true,
        "id": "2DHh7IV5sqID",
        "outputId": "283613e9-60c8-4bc8-de0a-21b9651ac9cf"
      },
      "outputs": [
        {
          "name": "stdout",
          "output_type": "stream",
          "text": [
            "(10,)\n",
            "<class 'tuple'>\n",
            "10\n",
            "<class 'int'>\n"
          ]
        }
      ],
      "source": [
        "var1 = (10,)\n",
        "print(var1)\n",
        "print(type(var1))\n",
        "\n",
        "var2 = (10)\n",
        "print(var2)\n",
        "print(type(var2))"
      ]
    },
    {
      "cell_type": "code",
      "execution_count": null,
      "metadata": {
        "scrolled": true,
        "id": "J1zYWtwrsqIG",
        "outputId": "b8d995b8-5dfd-4162-d1c1-78a88aee3ee1"
      },
      "outputs": [
        {
          "name": "stdout",
          "output_type": "stream",
          "text": [
            "4\n",
            "9\n",
            "6\n",
            "2\n"
          ]
        }
      ],
      "source": [
        "#Accessing Elements from Tuple in Python\n",
        "mytuple = (4, 9, 6, 2)\n",
        "print(mytuple[0])\n",
        "print(mytuple[1])\n",
        "print(mytuple[2])\n",
        "print(mytuple[3])"
      ]
    },
    {
      "cell_type": "code",
      "execution_count": null,
      "metadata": {
        "scrolled": true,
        "id": "0TS0Yp8lsqII",
        "outputId": "402139bc-2b8a-4b7d-e26a-7646ef921be5"
      },
      "outputs": [
        {
          "name": "stdout",
          "output_type": "stream",
          "text": [
            "4\n",
            "9\n",
            "6\n",
            "2\n",
            "2\n",
            "6\n",
            "9\n",
            "4\n"
          ]
        }
      ],
      "source": [
        "#Negative Index in Python Tuple\n",
        "mytuple = (4, 9, 6, 2)\n",
        "\n",
        "#accessing using indices\n",
        "print(mytuple[0])\n",
        "print(mytuple[1])\n",
        "print(mytuple[2])\n",
        "print(mytuple[3])\n",
        "\n",
        "# accessing using negative indices\n",
        "print(mytuple[-1])\n",
        "print(mytuple[-2])\n",
        "print(mytuple[-3])\n",
        "print(mytuple[-4])"
      ]
    },
    {
      "cell_type": "code",
      "execution_count": null,
      "metadata": {
        "scrolled": true,
        "id": "aAxOHAwLsqIK",
        "outputId": "b626f654-a9ee-41dd-d395-2db565358d96"
      },
      "outputs": [
        {
          "name": "stdout",
          "output_type": "stream",
          "text": [
            "10\n",
            "200\n",
            "o\n"
          ]
        }
      ],
      "source": [
        "mytuple = (4, [10, 20], (100, 200, 300), \"Python\")\n",
        "\n",
        "#accessing elements of nested list\n",
        "print(mytuple[1][0])  # 10\n",
        "\n",
        "#accessing elements of nested tuple\n",
        "print(mytuple[2][1])  # 200\n",
        "\n",
        "#accessing elements of nested string\n",
        "print(mytuple[3][4])  # o"
      ]
    },
    {
      "cell_type": "code",
      "execution_count": null,
      "metadata": {
        "scrolled": true,
        "id": "vatOgektsqIL",
        "outputId": "1c25597d-9987-45e3-b6f5-c760f078af94"
      },
      "outputs": [
        {
          "name": "stdout",
          "output_type": "stream",
          "text": [
            "(2, 3, 4)\n"
          ]
        }
      ],
      "source": [
        "#Python Tuple Slicing\n",
        "mytuple = (1,2,3,4,5)\n",
        "print(mytuple[1:4])# till 3 ,  n - 1"
      ]
    },
    {
      "cell_type": "code",
      "execution_count": null,
      "metadata": {
        "scrolled": true,
        "id": "oL-hyxJRsqIM",
        "outputId": "8b5224cd-de35-4c66-fe4d-6106744d5fd8"
      },
      "outputs": [
        {
          "name": "stdout",
          "output_type": "stream",
          "text": [
            "(2, 3, 4, 5)\n",
            "(1, 2, 3, 4, 5)\n",
            "(5, 6)\n",
            "(1, 2, 3, 4)\n",
            "(3, 4)\n",
            "(3, 4)\n",
            "(1, 2, 3, 4, 5, 6)\n"
          ]
        }
      ],
      "source": [
        "mytuple = (1, 2, 3, 4, 5, 6)\n",
        "\n",
        "# from 2nd element till 5th element\n",
        "print(mytuple[1:5])\n",
        "\n",
        "# from start till 5th element\n",
        "print(mytuple[:5])\n",
        "\n",
        "# from 5th element till end\n",
        "print(mytuple[4:])\n",
        "\n",
        "# from start till 3rd last element\n",
        "print(mytuple[:-2])\n",
        "\n",
        "# from 4th last element till 3rd last element\n",
        "print(mytuple[-4:-2])\n",
        "\n",
        "# from 3rd element till 3rd last element\n",
        "print(mytuple[2:-2])\n",
        "\n",
        "# all elements\n",
        "print(mytuple[:])"
      ]
    },
    {
      "cell_type": "code",
      "execution_count": null,
      "metadata": {
        "scrolled": true,
        "id": "hnG5SgOKsqIM",
        "outputId": "0c1c26cb-a029-4119-ac42-e943b9caa881"
      },
      "outputs": [
        {
          "name": "stdout",
          "output_type": "stream",
          "text": [
            "(2, 3, 4, 5, 6, 7, 8, 9)\n",
            "(2, 4, 6, 8)\n",
            "(2, 5, 8)\n"
          ]
        }
      ],
      "source": [
        "mytuple = (1, 2, 3, 4, 5, 6, 7, 8, 9, 10)\n",
        "\n",
        "# from 2nd element till 9th element\n",
        "print(mytuple[1:9])\n",
        "\n",
        "# from 2nd element till 9th element in step 2\n",
        "print(mytuple[1:9:2])\n",
        "\n",
        "# from 2nd element till 9th element in step 3\n",
        "print(mytuple[1:9:3])"
      ]
    },
    {
      "cell_type": "code",
      "execution_count": null,
      "metadata": {
        "scrolled": true,
        "id": "ym6-unRmsqIN",
        "outputId": "e43e51ee-3727-4dca-cb75-0d04a505f452"
      },
      "outputs": [
        {
          "name": "stdout",
          "output_type": "stream",
          "text": [
            "(10, 9, 8, 7, 6, 5, 4, 3, 2, 1)\n",
            "(10, 8, 6, 4, 2)\n"
          ]
        }
      ],
      "source": [
        "mytuple = (1, 2, 3, 4, 5, 6, 7, 8, 9, 10)\n",
        "\n",
        "# reversed tuple\n",
        "print(mytuple[::-1])\n",
        "# reversed tuple with step -2\n",
        "print(mytuple[::-2])"
      ]
    },
    {
      "cell_type": "code",
      "execution_count": null,
      "metadata": {
        "id": "vxbIPvj8sqIO"
      },
      "outputs": [],
      "source": [
        "## Immutable"
      ]
    },
    {
      "cell_type": "code",
      "execution_count": null,
      "metadata": {
        "scrolled": true,
        "id": "7kaPoeuAsqIP",
        "outputId": "42e550fd-b697-4436-b5a1-4df5376e4179"
      },
      "outputs": [
        {
          "ename": "TypeError",
          "evalue": "'tuple' object does not support item assignment",
          "output_type": "error",
          "traceback": [
            "\u001b[1;31m---------------------------------------------------------------------------\u001b[0m",
            "\u001b[1;31mTypeError\u001b[0m                                 Traceback (most recent call last)",
            "\u001b[1;32m<ipython-input-16-7ca7f88995b6>\u001b[0m in \u001b[0;36m<module>\u001b[1;34m\u001b[0m\n\u001b[0;32m      1\u001b[0m \u001b[1;31m#Changing Elements of Python Tuple\u001b[0m\u001b[1;33m\u001b[0m\u001b[1;33m\u001b[0m\u001b[1;33m\u001b[0m\u001b[0m\n\u001b[0;32m      2\u001b[0m \u001b[0mmytuple\u001b[0m \u001b[1;33m=\u001b[0m \u001b[1;33m(\u001b[0m\u001b[1;36m1\u001b[0m\u001b[1;33m,\u001b[0m\u001b[1;36m2\u001b[0m\u001b[1;33m,\u001b[0m\u001b[1;34m\"Hello World!\"\u001b[0m\u001b[1;33m)\u001b[0m\u001b[1;33m\u001b[0m\u001b[1;33m\u001b[0m\u001b[0m\n\u001b[1;32m----> 3\u001b[1;33m \u001b[0mmytuple\u001b[0m\u001b[1;33m[\u001b[0m\u001b[1;36m1\u001b[0m\u001b[1;33m]\u001b[0m \u001b[1;33m=\u001b[0m \u001b[1;36m5\u001b[0m\u001b[1;33m\u001b[0m\u001b[1;33m\u001b[0m\u001b[0m\n\u001b[0m",
            "\u001b[1;31mTypeError\u001b[0m: 'tuple' object does not support item assignment"
          ]
        }
      ],
      "source": [
        "#Changing Elements of Python Tuple\n",
        "mytuple = (1,2,\"Hello World!\")\n",
        "mytuple[1] = 5"
      ]
    },
    {
      "cell_type": "code",
      "execution_count": null,
      "metadata": {
        "scrolled": true,
        "id": "qc1Ts5cvsqIQ",
        "outputId": "bb4939f7-3843-4b48-8d80-586b8e68093a"
      },
      "outputs": [
        {
          "ename": "TypeError",
          "evalue": "'tuple' object doesn't support item deletion",
          "output_type": "error",
          "traceback": [
            "\u001b[1;31m---------------------------------------------------------------------------\u001b[0m",
            "\u001b[1;31mTypeError\u001b[0m                                 Traceback (most recent call last)",
            "\u001b[1;32m<ipython-input-17-ceb8c2a51ec9>\u001b[0m in \u001b[0;36m<module>\u001b[1;34m\u001b[0m\n\u001b[0;32m      1\u001b[0m \u001b[1;31m#Deleting Python Tuple\u001b[0m\u001b[1;33m\u001b[0m\u001b[1;33m\u001b[0m\u001b[1;33m\u001b[0m\u001b[0m\n\u001b[0;32m      2\u001b[0m \u001b[0mmytuple\u001b[0m \u001b[1;33m=\u001b[0m \u001b[1;33m(\u001b[0m\u001b[1;36m1\u001b[0m\u001b[1;33m,\u001b[0m\u001b[1;36m2\u001b[0m\u001b[1;33m,\u001b[0m\u001b[1;34m\"Hello Python!\"\u001b[0m\u001b[1;33m)\u001b[0m\u001b[1;33m\u001b[0m\u001b[1;33m\u001b[0m\u001b[0m\n\u001b[1;32m----> 3\u001b[1;33m \u001b[1;32mdel\u001b[0m \u001b[0mmytuple\u001b[0m\u001b[1;33m[\u001b[0m\u001b[1;36m1\u001b[0m\u001b[1;33m]\u001b[0m\u001b[1;33m\u001b[0m\u001b[1;33m\u001b[0m\u001b[0m\n\u001b[0m",
            "\u001b[1;31mTypeError\u001b[0m: 'tuple' object doesn't support item deletion"
          ]
        }
      ],
      "source": [
        "#Deleting Python Tuple\n",
        "mytuple = (1,2,\"Hello Python!\")\n",
        "del mytuple[1]"
      ]
    },
    {
      "cell_type": "code",
      "execution_count": null,
      "metadata": {
        "scrolled": true,
        "id": "-w75xhXtsqIQ",
        "outputId": "3939e420-9dfa-4aa4-a06a-79f23b97b7e6"
      },
      "outputs": [
        {
          "ename": "NameError",
          "evalue": "name 'mytuple' is not defined",
          "output_type": "error",
          "traceback": [
            "\u001b[1;31m---------------------------------------------------------------------------\u001b[0m",
            "\u001b[1;31mNameError\u001b[0m                                 Traceback (most recent call last)",
            "\u001b[1;32m<ipython-input-17-a59958cc6f10>\u001b[0m in \u001b[0;36m<module>\u001b[1;34m\u001b[0m\n\u001b[0;32m      1\u001b[0m \u001b[0mmytuple\u001b[0m \u001b[1;33m=\u001b[0m \u001b[1;33m(\u001b[0m\u001b[1;36m1\u001b[0m\u001b[1;33m,\u001b[0m\u001b[1;36m2\u001b[0m\u001b[1;33m,\u001b[0m\u001b[1;34m\"Hello Python!\"\u001b[0m\u001b[1;33m)\u001b[0m\u001b[1;33m\u001b[0m\u001b[1;33m\u001b[0m\u001b[0m\n\u001b[0;32m      2\u001b[0m \u001b[1;32mdel\u001b[0m \u001b[0mmytuple\u001b[0m\u001b[1;33m\u001b[0m\u001b[1;33m\u001b[0m\u001b[0m\n\u001b[1;32m----> 3\u001b[1;33m \u001b[0mprint\u001b[0m\u001b[1;33m(\u001b[0m\u001b[0mmytuple\u001b[0m\u001b[1;33m)\u001b[0m\u001b[1;33m\u001b[0m\u001b[1;33m\u001b[0m\u001b[0m\n\u001b[0m",
            "\u001b[1;31mNameError\u001b[0m: name 'mytuple' is not defined"
          ]
        }
      ],
      "source": [
        "mytuple = (1,2,\"Hello Python!\")\n",
        "del mytuple\n",
        "print(mytuple)"
      ]
    },
    {
      "cell_type": "code",
      "execution_count": null,
      "metadata": {
        "id": "GBN3xMcmsqIR",
        "outputId": "75624cf6-56a2-4387-df47-0982b7581296"
      },
      "outputs": [
        {
          "name": "stdout",
          "output_type": "stream",
          "text": [
            "('ashu', '4ft', 'web developer')\n"
          ]
        }
      ],
      "source": [
        "#tuples packing and unpacking\n",
        "person = (\"ashu\", '4ft', \"web developer\")\n",
        "print(person)"
      ]
    },
    {
      "cell_type": "code",
      "execution_count": null,
      "metadata": {
        "id": "31ByXoIbsqIR",
        "outputId": "aa83833f-188b-4584-ec44-a3ec9a3811ff"
      },
      "outputs": [
        {
          "name": "stdout",
          "output_type": "stream",
          "text": [
            "ashu\n",
            "4ft\n",
            "web developer\n"
          ]
        }
      ],
      "source": [
        "#unpacking tuples\n",
        "person = (\"ashu\", '4ft', \"web developer\")\n",
        "(name, height, profession) = person\n",
        "print(name)\n",
        "print(height)\n",
        "print(profession)"
      ]
    },
    {
      "cell_type": "code",
      "execution_count": null,
      "metadata": {
        "scrolled": true,
        "id": "MUA0nCb9sqIS",
        "outputId": "1707d819-4eac-4158-974a-031a1e0213c2"
      },
      "outputs": [
        {
          "name": "stdout",
          "output_type": "stream",
          "text": [
            "(1, 2, 3, 'a', 'b', 'c', 'd')\n"
          ]
        }
      ],
      "source": [
        "#Python Tuple Operations\n",
        "tuple1 = (1, 2, 3)\n",
        "tuple2 = ('a', 'b', 'c', 'd')\n",
        "tuple3 = tuple1 + tuple2\n",
        "print(tuple3)"
      ]
    },
    {
      "cell_type": "code",
      "execution_count": null,
      "metadata": {
        "scrolled": true,
        "id": "VoKfRqlLsqIT",
        "outputId": "59a6f27f-af8f-45f8-f144-032cabc5a3f4"
      },
      "outputs": [
        {
          "name": "stdout",
          "output_type": "stream",
          "text": [
            "(1, 2, 1, 2, 1, 2, 1, 2)\n"
          ]
        }
      ],
      "source": [
        "tuple1 = (1, 2)\n",
        "tuple2 = tuple1 * 4\n",
        "print(tuple2)"
      ]
    },
    {
      "cell_type": "code",
      "execution_count": null,
      "metadata": {
        "scrolled": true,
        "id": "_gIoxGUssqIT",
        "outputId": "c1de0f95-7dbf-40f9-845f-cc857c516321"
      },
      "outputs": [
        {
          "name": "stdout",
          "output_type": "stream",
          "text": [
            "True\n",
            "False\n",
            "False\n"
          ]
        }
      ],
      "source": [
        "#Python Tuple Membership Test\n",
        "mytuple = (1, 2, \"Blue\", \"Green\")\n",
        "print(2 in mytuple)\n",
        "print(4 in mytuple)\n",
        "print(\"Green\" not in mytuple)"
      ]
    },
    {
      "cell_type": "code",
      "execution_count": null,
      "metadata": {
        "scrolled": true,
        "id": "uC8r-ndOsqIV",
        "outputId": "0ca5f38d-ecd8-4ff5-c544-18835e6cc570"
      },
      "outputs": [
        {
          "name": "stdout",
          "output_type": "stream",
          "text": [
            "Blue\n",
            "Green\n",
            "Red\n"
          ]
        }
      ],
      "source": [
        "#Python Iteration Through a Tuple\n",
        "colors = (\"Blue\", \"Green\", \"Red\")\n",
        "for i in colors:\n",
        "    print(i)"
      ]
    },
    {
      "cell_type": "code",
      "execution_count": null,
      "metadata": {
        "scrolled": true,
        "id": "5Bf8og5QsqIW",
        "outputId": "bedf0868-662e-41a7-efd3-d17f2a5878ed"
      },
      "outputs": [
        {
          "name": "stdout",
          "output_type": "stream",
          "text": [
            "()\n"
          ]
        }
      ],
      "source": [
        "mytuple = tuple()\n",
        "print(mytuple)"
      ]
    },
    {
      "cell_type": "code",
      "execution_count": null,
      "metadata": {
        "id": "Ofma7ZhbsqIW",
        "outputId": "74911735-b280-40f0-d7e8-ca9a31b1cdc7"
      },
      "outputs": [
        {
          "name": "stdout",
          "output_type": "stream",
          "text": [
            "<class 'list'>\n",
            "<class 'tuple'>\n"
          ]
        }
      ],
      "source": [
        "a = [1,2,3]\n",
        "print(type(a))\n",
        "b = tuple(a)\n",
        "print(type(b))"
      ]
    },
    {
      "cell_type": "code",
      "execution_count": null,
      "metadata": {
        "scrolled": true,
        "id": "dnKzLAXvsqIX",
        "outputId": "d08b6e49-5b24-42c8-8b5a-3d3f276b1648"
      },
      "outputs": [
        {
          "name": "stdout",
          "output_type": "stream",
          "text": [
            "(1, 2, 3)\n",
            "('P', 'y', 't', 'h', 'o', 'n', ' ', 'P', 'r', 'o', 'g', 'r', 'a', 'm')\n"
          ]
        }
      ],
      "source": [
        "tuple1 = tuple([1, 2, 3])  # list is converted to tuple\n",
        "tuple2 = tuple(\"Python Program\")  # string is converted to tuple\n",
        "print(tuple1)\n",
        "print(tuple2)"
      ]
    },
    {
      "cell_type": "code",
      "execution_count": null,
      "metadata": {
        "scrolled": true,
        "id": "3GjhS32fsqIY",
        "outputId": "8a992fab-b4e6-47b7-b192-7fc9d8e7520d"
      },
      "outputs": [
        {
          "name": "stdout",
          "output_type": "stream",
          "text": [
            "6\n"
          ]
        }
      ],
      "source": [
        "#Built-in Functions in Python for Tuples\n",
        "mytuple = (1, 2, 3, 4, 5, 6)\n",
        "print(len(mytuple))"
      ]
    },
    {
      "cell_type": "code",
      "execution_count": null,
      "metadata": {
        "scrolled": true,
        "id": "qSTHFrPFsqIZ",
        "outputId": "64ae74f8-ffb8-41f7-ffa6-2e68a817ce48"
      },
      "outputs": [
        {
          "name": "stdout",
          "output_type": "stream",
          "text": [
            "100\n"
          ]
        }
      ],
      "source": [
        "mytuple = (3, 2, 1, 5, 6, 4 , 100)\n",
        "print(max(mytuple))"
      ]
    },
    {
      "cell_type": "code",
      "execution_count": null,
      "metadata": {
        "scrolled": true,
        "id": "eDbw4_josqIZ",
        "outputId": "5e50fe01-8ee5-4848-b80d-bec74c933b7e"
      },
      "outputs": [
        {
          "name": "stdout",
          "output_type": "stream",
          "text": [
            "1\n"
          ]
        }
      ],
      "source": [
        "mytuple = (3, 2, 1, 5, 4)\n",
        "print(min(mytuple))"
      ]
    },
    {
      "cell_type": "code",
      "execution_count": null,
      "metadata": {
        "scrolled": true,
        "id": "EJvXHzuNsqIa",
        "outputId": "ff6ffcd5-248c-40a2-ae63-10b745447eb1"
      },
      "outputs": [
        {
          "name": "stdout",
          "output_type": "stream",
          "text": [
            "21\n"
          ]
        }
      ],
      "source": [
        "mytuple = (3, 2, 1, 5, 6, 4)\n",
        "print(sum(mytuple))"
      ]
    },
    {
      "cell_type": "code",
      "execution_count": null,
      "metadata": {
        "scrolled": true,
        "id": "fLqTEzkOsqIb",
        "outputId": "bd3aa855-5c82-4744-abad-5917430487ba"
      },
      "outputs": [
        {
          "name": "stdout",
          "output_type": "stream",
          "text": [
            "[1, 2, 3, 4, 5, 6]\n"
          ]
        }
      ],
      "source": [
        "mytuple = (3, 2, 1, 5, 6, 4)\n",
        "print(sorted(mytuple))"
      ]
    },
    {
      "cell_type": "code",
      "execution_count": null,
      "metadata": {
        "scrolled": true,
        "id": "1wITNQe1sqIb",
        "outputId": "493935f7-58ad-409b-c4f6-fbd54df7363b"
      },
      "outputs": [
        {
          "name": "stdout",
          "output_type": "stream",
          "text": [
            "[6, 5, 4, 3, 2, 1]\n"
          ]
        }
      ],
      "source": [
        "mytuple = (3, 2, 1, 5, 6, 4)\n",
        "print(sorted(mytuple, reverse=True))"
      ]
    },
    {
      "cell_type": "code",
      "execution_count": null,
      "metadata": {
        "scrolled": true,
        "id": "zqWzK3TLsqIc",
        "outputId": "7edfddee-4a12-4e98-891f-6bce616d8580"
      },
      "outputs": [
        {
          "name": "stdout",
          "output_type": "stream",
          "text": [
            "2\n",
            "3\n"
          ]
        }
      ],
      "source": [
        "languages = ('Python', 'C', 'Java', 'C++', 'Java' , 'Java')\n",
        "\n",
        "print(languages.index('Java')) # printing index of first occurrence of 'Java'\n",
        "\n",
        "print(languages.count('Java')) # printing count of 'Java'"
      ]
    },
    {
      "cell_type": "code",
      "execution_count": null,
      "metadata": {
        "scrolled": true,
        "id": "_GbdWzDSsqIc",
        "outputId": "8a66ef59-978b-42f8-cadb-f233916b67fe"
      },
      "outputs": [
        {
          "ename": "AttributeError",
          "evalue": "'tuple' object has no attribute 'append'",
          "output_type": "error",
          "traceback": [
            "\u001b[1;31m---------------------------------------------------------------------------\u001b[0m",
            "\u001b[1;31mAttributeError\u001b[0m                            Traceback (most recent call last)",
            "\u001b[1;32m<ipython-input-35-b3924b48a4b2>\u001b[0m in \u001b[0;36m<module>\u001b[1;34m\u001b[0m\n\u001b[0;32m      1\u001b[0m \u001b[0mtuple\u001b[0m \u001b[1;33m=\u001b[0m \u001b[1;33m(\u001b[0m\u001b[1;34m\"ab\"\u001b[0m\u001b[1;33m,\u001b[0m \u001b[1;34m\"ban\"\u001b[0m\u001b[1;33m,\u001b[0m \u001b[1;34m\"cy\"\u001b[0m\u001b[1;33m)\u001b[0m\u001b[1;33m\u001b[0m\u001b[1;33m\u001b[0m\u001b[0m\n\u001b[1;32m----> 2\u001b[1;33m \u001b[0mtuple\u001b[0m\u001b[1;33m.\u001b[0m\u001b[0mappend\u001b[0m\u001b[1;33m(\u001b[0m\u001b[1;34m\"xs\"\u001b[0m\u001b[1;33m)\u001b[0m \u001b[1;31m# This will raise an error\u001b[0m\u001b[1;33m\u001b[0m\u001b[1;33m\u001b[0m\u001b[0m\n\u001b[0m\u001b[0;32m      3\u001b[0m \u001b[0mprint\u001b[0m\u001b[1;33m(\u001b[0m\u001b[0mtuple\u001b[0m\u001b[1;33m)\u001b[0m\u001b[1;33m\u001b[0m\u001b[1;33m\u001b[0m\u001b[0m\n",
            "\u001b[1;31mAttributeError\u001b[0m: 'tuple' object has no attribute 'append'"
          ]
        }
      ],
      "source": [
        "tuple = (\"ab\", \"ban\", \"cy\")\n",
        "tuple.append(\"xs\") # This will raise an error\n",
        "print(tuple)"
      ]
    },
    {
      "cell_type": "code",
      "execution_count": null,
      "metadata": {
        "scrolled": true,
        "id": "XkHz1KSHsqIu"
      },
      "outputs": [],
      "source": [
        "#tuple methods\n",
        "#count()\tReturns the number of times a specified value occurs in a tuple\n",
        "#index()\tSearches the tuple for a specified value and returns the position of where it was found"
      ]
    },
    {
      "cell_type": "code",
      "execution_count": null,
      "metadata": {
        "scrolled": true,
        "id": "1pZWiJmUsqIu",
        "outputId": "ede30478-36f4-4b0e-f419-97ea9f83a3aa"
      },
      "outputs": [
        {
          "name": "stdout",
          "output_type": "stream",
          "text": [
            "(5, 10, 15, 20, 25)\n",
            "(5,)\n"
          ]
        }
      ],
      "source": [
        "#Create a tuple with numbers\n",
        "tuplex = 5, 10, 15, 20, 25\n",
        "print(tuplex)\n",
        "#Create a tuple of one item\n",
        "tuplex = 5,\n",
        "print(tuplex)"
      ]
    },
    {
      "cell_type": "code",
      "execution_count": null,
      "metadata": {
        "scrolled": true,
        "id": "LP5hBrXasqIv",
        "outputId": "dfc931eb-f9bb-46ac-8359-92e584910fc8"
      },
      "outputs": [
        {
          "name": "stdout",
          "output_type": "stream",
          "text": [
            "exercises\n"
          ]
        }
      ],
      "source": [
        "tup = ('e', 'x', 'e', 'r', 'c', 'i', 's', 'e', 's')\n",
        "str =  \"\".join(tup)\n",
        "print(str)"
      ]
    },
    {
      "cell_type": "code",
      "execution_count": null,
      "metadata": {
        "id": "cjhNUSCCsqIw",
        "outputId": "416e6e80-c881-4bc6-8f4b-dfe64493d667"
      },
      "outputs": [
        {
          "name": "stdout",
          "output_type": "stream",
          "text": [
            "['999', 'ana', '5689']\n",
            "('999', 'ana', '5689', '8970')\n"
          ]
        }
      ],
      "source": [
        "#convert tuple into list\n",
        "tuple4 = (\"999\", \"ana\", \"5689\")\n",
        "y = list(tuple4)\n",
        "print(y)\n",
        "y.append(\"8970\")\n",
        "tuple4 = tuple(y)\n",
        "print(tuple4)"
      ]
    },
    {
      "cell_type": "code",
      "execution_count": null,
      "metadata": {
        "id": "BxzAATYxsqIw"
      },
      "outputs": [],
      "source": []
    }
  ],
  "metadata": {
    "kernelspec": {
      "display_name": "Python 3 (ipykernel)",
      "language": "python",
      "name": "python3"
    },
    "language_info": {
      "codemirror_mode": {
        "name": "ipython",
        "version": 3
      },
      "file_extension": ".py",
      "mimetype": "text/x-python",
      "name": "python",
      "nbconvert_exporter": "python",
      "pygments_lexer": "ipython3",
      "version": "3.11.5"
    },
    "colab": {
      "provenance": []
    }
  },
  "nbformat": 4,
  "nbformat_minor": 0
}